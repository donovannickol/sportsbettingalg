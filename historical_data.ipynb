{
 "cells": [
  {
   "cell_type": "code",
   "execution_count": 55,
   "metadata": {},
   "outputs": [],
   "source": [
    "import pandas as pd\n",
    "import requests\n",
    "import urllib\n",
    "from datetime import date\n",
    "\n",
    "\n",
    "# define API constants\n",
    "BASE_URL = 'https://api.prop-odds.com'\n",
    "API_KEY = '' # enter your API key here (from https://prop-odds.com/profile)\n",
    "\n",
    "# define NBA seasons\n",
    "season_2022_2023 = pd.date_range(date(2023, 3, 30), date(2023, 6, 12)) # data starts from March 3, 2023\n",
    "season_2023_2024 = pd.date_range(date(2023, 10, 24), date.today())\n",
    "nba_seasons = [season_2022_2023, season_2023_2024]\n",
    "\n",
    "# create dataframe to hold date, home_team, away_team, sportsbook, home_team_odds, away_team_odds, winner\n",
    "games_basic_info = pd.DataFrame(columns=['date', 'home_team', 'away_team', 'prop_odds_game_id', 'sportsbook', 'home_team_odds', 'away_team_odds', 'winner'])\n",
    "games_with_odds = pd.DataFrame(columns=['date', 'home_team', 'away_team', 'prop_odds_game_id', 'sportsbook', 'home_team_odds', 'away_team_odds', 'winner'])\n",
    "\n",
    "def get_request(url):\n",
    "    response = requests.get(url)\n",
    "    if response.status_code == 200:\n",
    "        return response.json()\n",
    "\n",
    "    print('Request failed with status:', response.status_code)\n",
    "    print(response.reason)\n",
    "    return {}"
   ]
  },
  {
   "cell_type": "code",
   "execution_count": 56,
   "metadata": {},
   "outputs": [],
   "source": [
    "def get_nba_games_on_date(date):\n",
    "    \"\"\"Returns on object containing all nba games on the given date\n",
    "        Parameters:\n",
    "            date (datetime.date): date to get games for\n",
    "        Returns:\n",
    "            games_on_date: dict object containing all nba games on the given date\n",
    "    \"\"\"\n",
    "    query_params = {\n",
    "        'date': date.strftime('%Y-%m-%d'),\n",
    "        'tz': 'America/New_York',\n",
    "        'api_key': API_KEY,\n",
    "    }\n",
    "    params = urllib.parse.urlencode(query_params)\n",
    "    url = BASE_URL + '/beta/games/nba?' + params\n",
    "    return get_request(url)"
   ]
  },
  {
   "cell_type": "code",
   "execution_count": 57,
   "metadata": {},
   "outputs": [],
   "source": [
    "def get_nba_games_in_date_range(date_range):\n",
    "    \"\"\"Inserts basic information about each nba game in the date range into games_df\n",
    "        Parameters:\n",
    "            date_range (pd.date_range): date range to get games for\n",
    "        Returns:\n",
    "            None\n",
    "    \"\"\"\n",
    "    for date in date_range:\n",
    "        games_on_date = get_nba_games_on_date(date)\n",
    "        # games_on_date = {'games': [{'home_team': 'Bucks', 'away_team': 'Lakers'}, {'home_team': 'Warriors', 'away_team': 'Nets'}]}\n",
    "        if games_on_date:\n",
    "            for game in games_on_date['games']:\n",
    "                # append to end of games_df\n",
    "                games_basic_info.loc[len(games_basic_info)] = [date, game['home_team'], game['away_team'], game['game_id'], '', '', '', '']"
   ]
  },
  {
   "cell_type": "code",
   "execution_count": 58,
   "metadata": {},
   "outputs": [],
   "source": [
    "def fill_basic_game_info():\n",
    "    \"\"\"Calls get_nba_games_in_date_range for each season in nba_seasons\"\"\"\n",
    "    for season in nba_seasons:\n",
    "        get_nba_games_in_date_range(season)"
   ]
  },
  {
   "cell_type": "code",
   "execution_count": 59,
   "metadata": {},
   "outputs": [],
   "source": [
    "def get_game_odds(game_id, game_date, market='moneyline'):\n",
    "    \"\"\"Returns an object containing the odds provided by the sportsbooks for the given game and market\n",
    "        Parameters: \n",
    "            game_id (str): prop odds game id\n",
    "            market (str): market to get odds for (moneyline, spread, total)\n",
    "        Returns:\n",
    "            odds: dict object containing the odds for the given game and market\n",
    "    \"\"\"\n",
    "    query_params = {\n",
    "        'api_key': API_KEY,\n",
    "        'end_datetime': game_date.strftime('%Y-%m-%d') + 'T12:00:00',\n",
    "    }\n",
    "    params = urllib.parse.urlencode(query_params)\n",
    "    url = BASE_URL + '/beta/odds/' + game_id + '/' + market + '?' + params\n",
    "    return get_request(url)"
   ]
  },
  {
   "cell_type": "code",
   "execution_count": 60,
   "metadata": {},
   "outputs": [],
   "source": [
    "def identify_home_away(outcomes, home_team, away_team):\n",
    "    \"\"\"Given a list of outcome objects, identifies the home and away outcome objects\n",
    "        Parameters:\n",
    "            outcomes (list): list of outcome objects\n",
    "            home_team (str): home team name\n",
    "            away_team (str): away team name\n",
    "        Returns:\n",
    "            home_outcome: outcome object for the home team\n",
    "            away_outcome: outcome object for the away team\n",
    "    \"\"\"\n",
    "    home_outcome = None\n",
    "    away_outcome = None\n",
    "    home_team_name = home_team.split(' ')[-1]\n",
    "    away_team_name = away_team.split(' ')[-1]\n",
    "    for outcome in outcomes:\n",
    "        if home_team_name in outcome['name']:\n",
    "            home_outcome = outcome\n",
    "        elif away_team_name in outcome['name']:\n",
    "            away_outcome = outcome\n",
    "    return home_outcome, away_outcome"
   ]
  },
  {
   "cell_type": "code",
   "execution_count": 61,
   "metadata": {},
   "outputs": [],
   "source": [
    "def add_odds_for_single_game(game_id, game_date):\n",
    "    \"\"\"Adds odds for a single game to games_full_data for all available sportsbooks\n",
    "        Parameters:\n",
    "            game_id (str): prop odds game id\n",
    "        Returns:\n",
    "            None\n",
    "    \"\"\"\n",
    "    odds = get_game_odds(game_id, game_date)\n",
    "    if odds:\n",
    "        for sportsbook in odds['sportsbooks']:\n",
    "            sportsbook_name = sportsbook['bookie_key']\n",
    "            game = games_basic_info[games_basic_info['prop_odds_game_id'] == game_id].copy()\n",
    "            game['sportsbook'] = sportsbook_name\n",
    "            home_outcome, away_outcome = identify_home_away(sportsbook['market']['outcomes'], game['home_team'].values[0], game['away_team'].values[0])\n",
    "            game['home_team_odds'] = home_outcome['odds']\n",
    "            game['away_team_odds'] = away_outcome['odds']\n",
    "            games_with_odds.loc[len(games_with_odds)] = game.values[0]\n",
    "        "
   ]
  },
  {
   "cell_type": "code",
   "execution_count": 62,
   "metadata": {},
   "outputs": [],
   "source": [
    "def fill_odds():\n",
    "    \"\"\"Calls add_odds_for_single_game for each game in games_df\"\"\"\n",
    "    for game_id, game_date in zip(games_basic_info['prop_odds_game_id'], games_basic_info['date']):\n",
    "        add_odds_for_single_game(game_id, game_date)"
   ]
  },
  {
   "cell_type": "code",
   "execution_count": 69,
   "metadata": {},
   "outputs": [],
   "source": [
    "# uncomment out two lines below to get games and odds, will consume many api calls and take ~2.5 minutes\n",
    "# fill_basic_game_info()\n",
    "# fill_odds()\n",
    "games_with_odds.to_csv('games_with_odds.csv', index=False)"
   ]
  },
  {
   "cell_type": "code",
   "execution_count": 64,
   "metadata": {},
   "outputs": [],
   "source": [
    "# load csv into dataframe\n",
    "games_full_data = pd.read_csv('games_with_odds.csv')"
   ]
  },
  {
   "cell_type": "code",
   "execution_count": 65,
   "metadata": {},
   "outputs": [],
   "source": [
    "# use balldontlie api to get winner for each game\n",
    "start_date, end_date = games_with_odds['date'].min(), games_with_odds['date'].max()\n",
    "per_page = 100\n",
    "\n",
    "def get_page_of_results(page):\n",
    "    \"\"\"Returns a page of results from the balldontlie api\n",
    "        Parameters:\n",
    "            page (int): page number to get results for\n",
    "        Returns:\n",
    "            results: dict object containing a page of results from the balldontlie api\n",
    "    \"\"\"\n",
    "    query_params = {\n",
    "        'start_date': start_date,\n",
    "        'end_date': end_date,\n",
    "        'per_page': per_page,\n",
    "        'page': page\n",
    "    }\n",
    "    params = urllib.parse.urlencode(query_params)\n",
    "    url = 'https://www.balldontlie.io/api/v1/games?' + params\n",
    "    return get_request(url)"
   ]
  },
  {
   "cell_type": "code",
   "execution_count": 66,
   "metadata": {},
   "outputs": [],
   "source": [
    "def get_all_results():\n",
    "    \"\"\"Returns a list of all results from the balldontlie api\n",
    "        Parameters:\n",
    "            None\n",
    "        Returns:\n",
    "            results: list object containing all results from the balldontlie api\n",
    "    \"\"\"\n",
    "    results = []\n",
    "    current_page = 1\n",
    "    while True:\n",
    "        page_results = get_page_of_results(current_page)\n",
    "        total_pages = page_results['meta']['total_pages']\n",
    "        current_page += 1\n",
    "        results += page_results['data']\n",
    "        if current_page == total_pages:\n",
    "            break\n",
    "    return results"
   ]
  },
  {
   "cell_type": "code",
   "execution_count": 67,
   "metadata": {},
   "outputs": [],
   "source": [
    "def fill_game_results(results):\n",
    "    \"\"\"Adds the winner to games_full_data for each game in results\n",
    "        Parameters:\n",
    "            results (list): list of game results from the balldontlie api\n",
    "        Returns:\n",
    "            None\n",
    "    \"\"\"\n",
    "    for result in results:\n",
    "        date = result['date'][:10]\n",
    "        home_team = result['home_team']['full_name']\n",
    "        away_team = result['visitor_team']['full_name']\n",
    "        if result['home_team_score'] and result['visitor_team_score']:\n",
    "            winner = home_team if result['home_team_score'] > result['visitor_team_score'] else away_team\n",
    "            games_full_data.loc[(games_with_odds['date'] == date) & (games_full_data['home_team'] == home_team) & (games_full_data['away_team'] == away_team), 'winner'] = winner\n",
    "        "
   ]
  },
  {
   "cell_type": "code",
   "execution_count": 68,
   "metadata": {},
   "outputs": [],
   "source": [
    "results = get_all_results()\n",
    "fill_game_results(results)\n",
    "games_full_data.to_csv('games_full_data.csv', index=False)"
   ]
  }
 ],
 "metadata": {
  "kernelspec": {
   "display_name": "cs333",
   "language": "python",
   "name": "python3"
  },
  "language_info": {
   "codemirror_mode": {
    "name": "ipython",
    "version": 3
   },
   "file_extension": ".py",
   "mimetype": "text/x-python",
   "name": "python",
   "nbconvert_exporter": "python",
   "pygments_lexer": "ipython3",
   "version": "3.9.18"
  }
 },
 "nbformat": 4,
 "nbformat_minor": 2
}
