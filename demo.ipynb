{
 "cells": [
  {
   "cell_type": "code",
   "execution_count": null,
   "metadata": {},
   "outputs": [
    {
     "ename": "",
     "evalue": "",
     "output_type": "error",
     "traceback": [
      "\u001b[1;31mFailed to start the Kernel. \n",
      "\u001b[1;31mKernel Python 3.11.5 is not usable. Check the Jupyter output tab for more information. \n",
      "\u001b[1;31mView Jupyter <a href='command:jupyter.viewOutput'>log</a> for further details."
     ]
    }
   ],
   "source": [
    "##for a pair of odds where x and y are complements of each other i.e. duke winning vs UNC or UNC winning vs Duke\n",
    "def odds_to_prob2(x, y):\n",
    "    if (x < 0):\n",
    "        prob_x = (-1 * x) / (100 - x)\n",
    "    else:\n",
    "        prob_x = 100 / (x + 100)\n",
    "    if (y < 0):\n",
    "        prob_y = (-1 * y) / (100 - y)\n",
    "    else:\n",
    "        prob_y = 100 / (x + 100)\n",
    "    vig = prob_x + prob_y - 1.0\n",
    "    prob_x -= vig/2\n",
    "    prob_y -= vig/2\n",
    "    return (prob_x, prob_y)\n",
    "\n",
    "##Converting \n",
    "def odds_to_prob1(odds):\n",
    "    if (odds < 0):\n",
    "        return (-1 * odds) / (100 - odds)\n",
    "    else:\n",
    "        return 100 / (odds + 100)\n",
    "\n",
    "##exp value payout for a bet size of $1\n",
    "def calc_statistical_edge(odds, consensus_prob):\n",
    "    if (odds < 0):\n",
    "        payout = ((-100 / odds) + 1)\n",
    "    else:\n",
    "        payout = ((odds / 100) + 1)\n",
    "    return payout * consensus_prob\n",
    "\n",
    "\n",
    "def exp_value(odds, consensus_prob, principle):\n",
    "    if (odds < 0):\n",
    "        payout = ((-100 / odds) + 1) * principle\n",
    "    else:\n",
    "        payout = ((odds / 100) + 1) * principle\n",
    "    return payout * consensus_prob\n",
    "\n",
    "##If you want the statistical edge, just do the expected value for a principle of $1\n",
    "\n",
    "def consensus_prob_calc(probs, weights=None):\n",
    "    if not weights: # fallback value\n",
    "        weights = [1/len(probs)] * len(probs)\n",
    "    consensus_prob = 0\n",
    "    for index in range(len(weights)):\n",
    "        consensus_prob += weights[index] * probs[index]\n",
    "    return consensus_prob\n",
    "\n",
    "def odds_to_decimal_odds(odds):\n",
    "    if (odds < 0):\n",
    "        return ((-100 / odds) + 1)\n",
    "    else:\n",
    "        return ((odds / 100) + 1)\n",
    "\n",
    "##Uses Kelly Criterion to calculate optimal bet size\n",
    "def calc_bet_size(odds, consensus_prob, bankroll):\n",
    "    decimal_odds = odds_to_decimal_odds(odds)\n",
    "    frac = (decimal_odds - 1) * consensus_prob - ((1 - consensus_prob) / decimal_odds)\n",
    "    if (frac < 0):\n",
    "        return 0\n",
    "    else:\n",
    "        return frac * bankroll"
   ]
  },
  {
   "cell_type": "code",
   "execution_count": null,
   "metadata": {},
   "outputs": [
    {
     "ename": "",
     "evalue": "",
     "output_type": "error",
     "traceback": [
      "\u001b[1;31mFailed to start the Kernel. \n",
      "\u001b[1;31mKernel Python 3.11.5 is not usable. Check the Jupyter output tab for more information. \n",
      "\u001b[1;31mView Jupyter <a href='command:jupyter.viewOutput'>log</a> for further details."
     ]
    }
   ],
   "source": [
    "import pandas as pd\n",
    "import requests\n",
    "import urllib\n",
    "from datetime import date\n",
    "\n",
    "# define API constants\n",
    "BASE_URL = 'https://api.prop-odds.com'\n",
    "API_KEY = 'GztX2ykLea7yEmXtJa1183dcc2JQ5AI9xXc5iHTKo' # enter your API key here (from https://prop-odds.com/profile)\n",
    "\n",
    "def get_request(url):\n",
    "    response = requests.get(url)\n",
    "    if response.status_code == 200:\n",
    "        return response.json()\n",
    "\n",
    "    print('Request failed with status:', response.status_code)\n",
    "    print(response.reason)\n",
    "    return {}"
   ]
  },
  {
   "cell_type": "code",
   "execution_count": null,
   "metadata": {},
   "outputs": [
    {
     "ename": "",
     "evalue": "",
     "output_type": "error",
     "traceback": [
      "\u001b[1;31mFailed to start the Kernel. \n",
      "\u001b[1;31mKernel Python 3.11.5 is not usable. Check the Jupyter output tab for more information. \n",
      "\u001b[1;31mView Jupyter <a href='command:jupyter.viewOutput'>log</a> for further details."
     ]
    }
   ],
   "source": [
    "\n",
    "historical_games = pd.read_csv('games_full_data.csv').dropna()\n",
    "weights = {} # map sportsbook to weighting"
   ]
  },
  {
   "cell_type": "code",
   "execution_count": null,
   "metadata": {},
   "outputs": [
    {
     "ename": "",
     "evalue": "",
     "output_type": "error",
     "traceback": [
      "\u001b[1;31mFailed to start the Kernel. \n",
      "\u001b[1;31mKernel Python 3.11.5 is not usable. Check the Jupyter output tab for more information. \n",
      "\u001b[1;31mView Jupyter <a href='command:jupyter.viewOutput'>log</a> for further details."
     ]
    }
   ],
   "source": [
    "def loss(game):\n",
    "    \"\"\"Penalizes the sportsbook based on how wrong their odds were\n",
    "        Parameters:\n",
    "            game (series): game data\n",
    "        Returns:\n",
    "            float: loss\n",
    "    \"\"\"\n",
    "    if (game['home_team_odds'] < 0 and game['winner'] == game['home_team']) or (game['away_team_odds'] < 0 and game['winner'] == game['away_team']):\n",
    "        return 0\n",
    "    \n",
    "    home_prob, away_prob = odds_to_prob2(game['home_team_odds'], game['away_team_odds'])\n",
    "    return max(0, 1 - home_prob if (home_prob > away_prob) else 1 - away_prob)\n"
   ]
  },
  {
   "cell_type": "code",
   "execution_count": null,
   "metadata": {},
   "outputs": [
    {
     "ename": "",
     "evalue": "",
     "output_type": "error",
     "traceback": [
      "\u001b[1;31mFailed to start the Kernel. \n",
      "\u001b[1;31mKernel Python 3.11.5 is not usable. Check the Jupyter output tab for more information. \n",
      "\u001b[1;31mView Jupyter <a href='command:jupyter.viewOutput'>log</a> for further details."
     ]
    }
   ],
   "source": [
    "def assign_weights():\n",
    "    \"\"\"Assigns weights to each sportsbook based on historical performance\"\"\"\n",
    "    # assign loss to each game\n",
    "    historical_games['loss'] = historical_games.apply(loss, axis=1)\n",
    "\n",
    "    # calculate weights based on total loss for each sportsbook\n",
    "    total_loss = historical_games.groupby('sportsbook')['loss'].sum()\n",
    "    total_loss = total_loss / total_loss.sum()\n",
    "    for sportsbook in total_loss.index:\n",
    "        weights[sportsbook] = total_loss[sportsbook]"
   ]
  },
  {
   "cell_type": "code",
   "execution_count": null,
   "metadata": {},
   "outputs": [
    {
     "ename": "",
     "evalue": "",
     "output_type": "error",
     "traceback": [
      "\u001b[1;31mFailed to start the Kernel. \n",
      "\u001b[1;31mKernel Python 3.11.5 is not usable. Check the Jupyter output tab for more information. \n",
      "\u001b[1;31mView Jupyter <a href='command:jupyter.viewOutput'>log</a> for further details."
     ]
    }
   ],
   "source": [
    "assign_weights()\n",
    "weights"
   ]
  },
  {
   "cell_type": "code",
   "execution_count": null,
   "metadata": {},
   "outputs": [
    {
     "ename": "",
     "evalue": "",
     "output_type": "error",
     "traceback": [
      "\u001b[1;31mFailed to start the Kernel. \n",
      "\u001b[1;31mKernel Python 3.11.5 is not usable. Check the Jupyter output tab for more information. \n",
      "\u001b[1;31mView Jupyter <a href='command:jupyter.viewOutput'>log</a> for further details."
     ]
    }
   ],
   "source": [
    "todays_games = pd.DataFrame(columns=['home_team', 'away_team', 'prop_odds_game_id'])\n",
    "todays_odds = pd.DataFrame(columns=['home_team', 'away_team', 'prop_odds_game_id', 'sportsbook', 'home_team_odds', 'away_team_odds', 'probability', 'consensus_prob', 'exp_value'])"
   ]
  },
  {
   "cell_type": "code",
   "execution_count": null,
   "metadata": {},
   "outputs": [
    {
     "ename": "",
     "evalue": "",
     "output_type": "error",
     "traceback": [
      "\u001b[1;31mFailed to start the Kernel. \n",
      "\u001b[1;31mKernel Python 3.11.5 is not usable. Check the Jupyter output tab for more information. \n",
      "\u001b[1;31mView Jupyter <a href='command:jupyter.viewOutput'>log</a> for further details."
     ]
    }
   ],
   "source": [
    "def get_todays_games():\n",
    "    \"\"\"Get today's games from the Prop Odds API\"\"\"\n",
    "    query_params = {\n",
    "        'date': date.today().strftime('%Y-%m-%d'),\n",
    "        'tz': 'America/New_York',\n",
    "        'api_key': API_KEY,\n",
    "    }\n",
    "    params = urllib.parse.urlencode(query_params)\n",
    "    url = BASE_URL + '/beta/games/nba?' + params\n",
    "    return get_request(url)"
   ]
  },
  {
   "cell_type": "code",
   "execution_count": null,
   "metadata": {},
   "outputs": [
    {
     "ename": "",
     "evalue": "",
     "output_type": "error",
     "traceback": [
      "\u001b[1;31mFailed to start the Kernel. \n",
      "\u001b[1;31mKernel Python 3.11.5 is not usable. Check the Jupyter output tab for more information. \n",
      "\u001b[1;31mView Jupyter <a href='command:jupyter.viewOutput'>log</a> for further details."
     ]
    }
   ],
   "source": [
    "def fill_todays_games():\n",
    "    \"\"\"Fill the todays_games dataframe with today's games\"\"\"\n",
    "    todays_games_json = get_todays_games()\n",
    "    for game in todays_games_json['games']:\n",
    "        todays_games.loc[len(todays_games)] = [game['home_team'], game['away_team'], game['game_id']]"
   ]
  },
  {
   "cell_type": "code",
   "execution_count": null,
   "metadata": {},
   "outputs": [
    {
     "ename": "",
     "evalue": "",
     "output_type": "error",
     "traceback": [
      "\u001b[1;31mFailed to start the Kernel. \n",
      "\u001b[1;31mKernel Python 3.11.5 is not usable. Check the Jupyter output tab for more information. \n",
      "\u001b[1;31mView Jupyter <a href='command:jupyter.viewOutput'>log</a> for further details."
     ]
    }
   ],
   "source": [
    "def get_game_odds(game_id, market='moneyline'):\n",
    "    \"\"\"Returns an object containing the odds provided by the sportsbooks for the given game and market\n",
    "        Parameters: \n",
    "            game_id (str): prop odds game id\n",
    "            market (str): market to get odds for (moneyline, spread, total)\n",
    "        Returns:\n",
    "            odds: dict object containing the odds for the given game and market\n",
    "    \"\"\"\n",
    "    query_params = {\n",
    "        'api_key': API_KEY,\n",
    "    }\n",
    "    params = urllib.parse.urlencode(query_params)\n",
    "    url = BASE_URL + '/beta/odds/' + game_id + '/' + market + '?' + params\n",
    "    return get_request(url)"
   ]
  },
  {
   "cell_type": "code",
   "execution_count": null,
   "metadata": {},
   "outputs": [
    {
     "ename": "",
     "evalue": "",
     "output_type": "error",
     "traceback": [
      "\u001b[1;31mFailed to start the Kernel. \n",
      "\u001b[1;31mKernel Python 3.11.5 is not usable. Check the Jupyter output tab for more information. \n",
      "\u001b[1;31mView Jupyter <a href='command:jupyter.viewOutput'>log</a> for further details."
     ]
    }
   ],
   "source": [
    "def identify_home_away(outcomes, home_team, away_team):\n",
    "    \"\"\"Given a list of outcome objects, identifies the home and away outcome objects\n",
    "        Parameters:\n",
    "            outcomes (list): list of outcome objects\n",
    "            home_team (str): home team name\n",
    "            away_team (str): away team name\n",
    "        Returns:\n",
    "            home_outcome: outcome object for the home team\n",
    "            away_outcome: outcome object for the away team\n",
    "    \"\"\"\n",
    "    home_outcome = None\n",
    "    away_outcome = None\n",
    "    home_team_name = home_team.split(' ')[-1]\n",
    "    away_team_name = away_team.split(' ')[-1]\n",
    "    for outcome in outcomes:\n",
    "        if home_team_name in outcome['name']:\n",
    "            home_outcome = outcome\n",
    "        elif away_team_name in outcome['name']:\n",
    "            away_outcome = outcome\n",
    "    return home_outcome, away_outcome"
   ]
  },
  {
   "cell_type": "code",
   "execution_count": null,
   "metadata": {},
   "outputs": [
    {
     "ename": "",
     "evalue": "",
     "output_type": "error",
     "traceback": [
      "\u001b[1;31mFailed to start the Kernel. \n",
      "\u001b[1;31mKernel Python 3.11.5 is not usable. Check the Jupyter output tab for more information. \n",
      "\u001b[1;31mView Jupyter <a href='command:jupyter.viewOutput'>log</a> for further details."
     ]
    }
   ],
   "source": [
    "def add_odds_for_single_game(game_id):\n",
    "    \"\"\"Adds odds for a single game to games_full_data for all available sportsbooks\n",
    "        Parameters:\n",
    "            game_id (str): prop odds game id\n",
    "        Returns:\n",
    "            None\n",
    "    \"\"\"\n",
    "    odds = get_game_odds(game_id)\n",
    "    if odds:\n",
    "        for sportsbook in odds['sportsbooks']:\n",
    "            sportsbook_name = sportsbook['bookie_key']\n",
    "            game = todays_games[todays_games['prop_odds_game_id'] == game_id].copy()\n",
    "            game['sportsbook'] = sportsbook_name\n",
    "            home_outcome, away_outcome = identify_home_away(sportsbook['market']['outcomes'], game['home_team'].values[0], game['away_team'].values[0])\n",
    "            game['home_team_odds'] = home_outcome['odds']\n",
    "            game['away_team_odds'] = away_outcome['odds']\n",
    "            game['probability'] = odds_to_prob2(home_outcome['odds'], away_outcome['odds'])[0]\n",
    "            game['consensus_prob'], game['exp_value'] = None, None\n",
    "            todays_odds.loc[len(todays_odds)] = game.values[0]\n",
    "        "
   ]
  },
  {
   "cell_type": "code",
   "execution_count": null,
   "metadata": {},
   "outputs": [
    {
     "ename": "",
     "evalue": "",
     "output_type": "error",
     "traceback": [
      "\u001b[1;31mFailed to start the Kernel. \n",
      "\u001b[1;31mKernel Python 3.11.5 is not usable. Check the Jupyter output tab for more information. \n",
      "\u001b[1;31mView Jupyter <a href='command:jupyter.viewOutput'>log</a> for further details."
     ]
    }
   ],
   "source": [
    "def fill_odds():\n",
    "    \"\"\"Calls add_odds_for_single_game for each game in games_df\"\"\"\n",
    "    for game_id in todays_games['prop_odds_game_id']:\n",
    "        add_odds_for_single_game(game_id)"
   ]
  },
  {
   "cell_type": "code",
   "execution_count": null,
   "metadata": {},
   "outputs": [
    {
     "ename": "",
     "evalue": "",
     "output_type": "error",
     "traceback": [
      "\u001b[1;31mFailed to start the Kernel. \n",
      "\u001b[1;31mKernel Python 3.11.5 is not usable. Check the Jupyter output tab for more information. \n",
      "\u001b[1;31mView Jupyter <a href='command:jupyter.viewOutput'>log</a> for further details."
     ]
    }
   ],
   "source": [
    "def fill_consensus_probs():\n",
    "    \"\"\"Fills the consensus_prob column in todays_odds\"\"\"\n",
    "    for game_id in todays_odds['prop_odds_game_id'].unique():\n",
    "        game = todays_odds[todays_odds['prop_odds_game_id'] == game_id]\n",
    "        consensus_prob = consensus_prob_calc(game['probability'].values)\n",
    "        todays_odds.loc[todays_odds['prop_odds_game_id'] == game_id, 'consensus_prob'] = consensus_prob"
   ]
  },
  {
   "cell_type": "code",
   "execution_count": null,
   "metadata": {},
   "outputs": [
    {
     "ename": "",
     "evalue": "",
     "output_type": "error",
     "traceback": [
      "\u001b[1;31mFailed to start the Kernel. \n",
      "\u001b[1;31mKernel Python 3.11.5 is not usable. Check the Jupyter output tab for more information. \n",
      "\u001b[1;31mView Jupyter <a href='command:jupyter.viewOutput'>log</a> for further details."
     ]
    }
   ],
   "source": [
    "def fill_exp_values():\n",
    "    \"\"\"Fills the exp_value column in todays_odds\"\"\"\n",
    "    for index, row in todays_odds.iterrows():\n",
    "        ev = exp_value(row['home_team_odds'], row['consensus_prob'], 1)\n",
    "        todays_odds.loc[index, 'exp_value'] = ev"
   ]
  },
  {
   "cell_type": "code",
   "execution_count": null,
   "metadata": {},
   "outputs": [
    {
     "ename": "",
     "evalue": "",
     "output_type": "error",
     "traceback": [
      "\u001b[1;31mFailed to start the Kernel. \n",
      "\u001b[1;31mKernel Python 3.11.5 is not usable. Check the Jupyter output tab for more information. \n",
      "\u001b[1;31mView Jupyter <a href='command:jupyter.viewOutput'>log</a> for further details."
     ]
    }
   ],
   "source": [
    "get_todays_games()\n",
    "fill_todays_games()\n",
    "fill_odds()\n",
    "fill_consensus_probs()\n",
    "fill_exp_values()\n",
    "todays_odds.to_csv('todays_odds.csv', index=False)"
   ]
  }
 ],
 "metadata": {
  "kernelspec": {
   "display_name": "Python 3",
   "language": "python",
   "name": "python3"
  },
  "language_info": {
   "codemirror_mode": {
    "name": "ipython",
    "version": 3
   },
   "file_extension": ".py",
   "mimetype": "text/x-python",
   "name": "python",
   "nbconvert_exporter": "python",
   "pygments_lexer": "ipython3",
   "version": "3.11.5"
  },
  "vscode": {
   "interpreter": {
    "hash": "aee8b7b246df8f9039afb4144a1f6fd8d2ca17a180786b69acc140d282b71a49"
   }
  }
 },
 "nbformat": 4,
 "nbformat_minor": 2
}
