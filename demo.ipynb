{
 "cells": [
  {
   "cell_type": "code",
   "execution_count": 99,
   "metadata": {},
   "outputs": [],
   "source": [
    "##for a pair of odds where x and y are complements of each other i.e. duke winning vs UNC or UNC winning vs Duke\n",
    "def odds_to_prob2(x, y):\n",
    "    if (x < 0):\n",
    "        prob_x = (-1 * x) / (100 - x)\n",
    "    else:\n",
    "        prob_x = 100 / (x + 100)\n",
    "    if (y < 0):\n",
    "        prob_y = (-1 * y) / (100 - y)\n",
    "    else:\n",
    "        prob_y = 100 / (y + 100)\n",
    "    vig = prob_x + prob_y - 1.0\n",
    "    prob_x -= vig/2\n",
    "    prob_y -= vig/2\n",
    "    return (prob_x, prob_y)\n",
    "\n",
    "def vig(x, y):\n",
    "    if (x < 0):\n",
    "        prob_x = (-1 * x) / (100 - x)\n",
    "    else:\n",
    "        prob_x = 100 / (x + 100)\n",
    "    if (y < 0):\n",
    "        prob_y = (-1 * y) / (100 - y)\n",
    "    else:\n",
    "        prob_y = 100 / (y + 100)\n",
    "    vig = prob_x + prob_y - 1.0\n",
    "    return vig\n",
    "\n",
    "##Converting \n",
    "def odds_to_prob1(odds):\n",
    "    if (odds < 0):\n",
    "        return (-1 * odds) / (100 - odds)\n",
    "    else:\n",
    "        return 100 / (odds + 100)\n",
    "\n",
    "##exp value payout for a bet size of $1\n",
    "def calc_statistical_edge(odds, consensus_prob):\n",
    "    if (odds < 0):\n",
    "        payout = ((-100 / odds) + 1)\n",
    "    else:\n",
    "        payout = ((odds / 100) + 1)\n",
    "    return payout * consensus_prob\n",
    "\n",
    "\n",
    "def exp_value(odds, consensus_prob, principle):\n",
    "    if (odds < 0):\n",
    "        payout = ((-100 / odds) + 1) * principle\n",
    "    else:\n",
    "        payout = ((odds / 100) + 1) * principle\n",
    "    return payout * consensus_prob\n",
    "\n",
    "##If you want the statistical edge, just do the expected value for a principle of $1\n",
    "\n",
    "def consensus_prob_calc(probs, weights=None):\n",
    "    if not weights: # fallback value\n",
    "        weights = [1/len(probs)] * len(probs)\n",
    "    weights = [weight/sum(weights) for weight in weights]\n",
    "    consensus_prob = 0\n",
    "    for index in range(len(weights)):\n",
    "        consensus_prob += weights[index] * probs[index]\n",
    "    return consensus_prob\n",
    "\n",
    "def odds_to_decimal_odds(odds):\n",
    "    if (odds < 0):\n",
    "        return ((-100 / odds) + 1)\n",
    "    else:\n",
    "        return ((odds / 100) + 1)\n",
    "\n",
    "##Uses Kelly Criterion to calculate optimal bet size\n",
    "def calc_bet_size(odds, consensus_prob, bankroll):\n",
    "    decimal_odds = odds_to_decimal_odds(odds)\n",
    "    frac = consensus_prob - (1-consensus_prob)/(decimal_odds-1)\n",
    "    if (frac < 0):\n",
    "        return 0\n",
    "    else:\n",
    "        return frac * bankroll"
   ]
  },
  {
   "cell_type": "code",
   "execution_count": 100,
   "metadata": {},
   "outputs": [],
   "source": [
    "import pandas as pd\n",
    "import requests\n",
    "import urllib\n",
    "from datetime import date\n",
    "\n",
    "# define API constants\n",
    "BASE_URL = 'https://api.prop-odds.com'\n",
    "API_KEY = 'e98LRUF1NW7dFpoJ6wrxzucPq7dj9xnhk7kBZBKnY' # enter your API key here (from https://prop-odds.com/profile)\n",
    "\n",
    "def get_request(url):\n",
    "    response = requests.get(url)\n",
    "    if response.status_code == 200:\n",
    "        return response.json()\n",
    "\n",
    "    print('Request failed with status:', response.status_code)\n",
    "    print(response.reason)\n",
    "    return {}"
   ]
  },
  {
   "cell_type": "code",
   "execution_count": 101,
   "metadata": {},
   "outputs": [],
   "source": [
    "def fill_probabilities(odds):\n",
    "    \"\"\"Fills the home_probability and away_probability columns in an odds dataframe.\n",
    "        Parameters:\n",
    "            odds (dataframe): dataframe containing odds data\n",
    "        Returns:\n",
    "            None\n",
    "    \"\"\"\n",
    "    for index, row in odds.iterrows():\n",
    "        home_prob, away_prob = odds_to_prob2(row['home_team_odds'], row['away_team_odds'])\n",
    "        odds.loc[index, 'home_probability'] = home_prob\n",
    "        odds.loc[index, 'away_probability'] = away_prob"
   ]
  },
  {
   "cell_type": "code",
   "execution_count": 102,
   "metadata": {},
   "outputs": [],
   "source": [
    "# create and load dataframes\n",
    "todays_games = pd.DataFrame(columns=['home_team', 'away_team', 'prop_odds_game_id'])\n",
    "todays_odds = pd.DataFrame(columns=['home_team', 'away_team', 'prop_odds_game_id', 'sportsbook', 'home_team_odds', 'away_team_odds', 'home_probability', 'away_probability', 'home_consensus_prob', 'away_consensus_prob', 'home_statistical_edge', 'away_statistical_edge', 'home_exp_value', 'away_exp_value', 'home_bet_size', 'away_bet_size', 'payout'])\n",
    "\n",
    "historical_games = pd.read_csv('games_full_data.csv').dropna()\n",
    "historical_odds = historical_games.copy()\n",
    "historical_odds['home_probability'], historical_odds['away_probability'], historical_odds['home_consensus_prob'], historical_odds['away_consensus_prob'], historical_odds['statistical_edge'], historical_odds['away_statistical_edge'], historical_odds['home_exp_value'], historical_odds['away_exp_value'], historical_odds['home_bet_size'], historical_odds['away_bet_size'], historical_odds['payout'] = None, None, None, None, None, None, None, None, None, None, None\n",
    "\n",
    "fill_probabilities(historical_odds)\n"
   ]
  },
  {
   "cell_type": "code",
   "execution_count": 103,
   "metadata": {},
   "outputs": [],
   "source": [
    "def loss(game):\n",
    "    \"\"\"Penalizes the sportsbook based on how wrong their odds were\n",
    "        Parameters:\n",
    "            game (series): game data\n",
    "        Returns:\n",
    "            float: loss\n",
    "    \"\"\"\n",
    "    home_prob, away_prob = odds_to_prob2(game['home_team_odds'], game['away_team_odds'])\n",
    "\n",
    "    if (game['winner'] == game['home_team']):\n",
    "        return 1 - home_prob\n",
    "    else:\n",
    "        return 1 - away_prob"
   ]
  },
  {
   "cell_type": "code",
   "execution_count": 104,
   "metadata": {},
   "outputs": [],
   "source": [
    "def assign_weights_by_loss():\n",
    "    \"\"\"Assigns weights to each sportsbook based on historical performance\"\"\"\n",
    "    # assign loss to each game\n",
    "    historical_games['loss'] = historical_games.apply(loss, axis=1)\n",
    "    # calculate weights based on total loss for each sportsbook\n",
    "    average_loss = historical_games.groupby('sportsbook')['loss'].mean()**2\n",
    "    # weight the sportsbooks inversely to their average loss\n",
    "    weights = 1 / average_loss\n",
    "    # normalize weights\n",
    "    weights = weights / weights.sum()\n",
    "    return weights"
   ]
  },
  {
   "cell_type": "code",
   "execution_count": 105,
   "metadata": {},
   "outputs": [],
   "source": [
    "def assign_weights_by_vig():\n",
    "    \"\"\"Assigns weights to each sportsbook based on the vig of their odds historically\"\"\"\n",
    "    # calculate average vig of each sportsbook using the vig function, which takes a single pair of odds\n",
    "    # vig can only take one pair of odds at once, so we use apply to apply it to each row\n",
    "    global vigs\n",
    "    vigs = pd.DataFrame(columns = ['sportsbook', 'vig'])\n",
    "    for index, row in historical_games.iterrows():\n",
    "        vigs = pd.concat([vigs, pd.DataFrame([[row['sportsbook'], vig(row['home_team_odds'], row['away_team_odds'])]], columns = ['sportsbook', 'vig'])])\n",
    "    average_vig = vigs.groupby('sportsbook')['vig'].mean()\n",
    "    # weight the sportsbooks inversely to their average vig\n",
    "    weights = 1 / average_vig\n",
    "    # normalize weights\n",
    "    weights = weights / weights.sum()\n",
    "    return weights"
   ]
  },
  {
   "cell_type": "code",
   "execution_count": 106,
   "metadata": {},
   "outputs": [],
   "source": [
    "def get_todays_games():\n",
    "    \"\"\"Get today's games from the Prop Odds API\"\"\"\n",
    "    query_params = {\n",
    "        'date': date.today().strftime('%Y-%m-%d'),\n",
    "        'tz': 'America/New_York',\n",
    "        'api_key': API_KEY,\n",
    "    }\n",
    "    params = urllib.parse.urlencode(query_params)\n",
    "    url = BASE_URL + '/beta/games/nba?' + params\n",
    "    return get_request(url)"
   ]
  },
  {
   "cell_type": "code",
   "execution_count": 107,
   "metadata": {},
   "outputs": [],
   "source": [
    "def fill_todays_games():\n",
    "    \"\"\"Fill the todays_games dataframe with today's games\"\"\"\n",
    "    todays_games_json = get_todays_games()\n",
    "    for game in todays_games_json['games']:\n",
    "        todays_games.loc[len(todays_games)] = [game['home_team'], game['away_team'], game['game_id']]"
   ]
  },
  {
   "cell_type": "code",
   "execution_count": 108,
   "metadata": {},
   "outputs": [],
   "source": [
    "def get_game_odds(game_id, market='moneyline'):\n",
    "    \"\"\"Returns an object containing the odds provided by the sportsbooks for the given game and market\n",
    "        Parameters: \n",
    "            game_id (str): prop odds game id\n",
    "            market (str): market to get odds for (moneyline, spread, total)\n",
    "        Returns:\n",
    "            odds: dict object containing the odds for the given game and market\n",
    "    \"\"\"\n",
    "    query_params = {\n",
    "        'api_key': API_KEY,\n",
    "    }\n",
    "    params = urllib.parse.urlencode(query_params)\n",
    "    url = BASE_URL + '/beta/odds/' + game_id + '/' + market + '?' + params\n",
    "    return get_request(url)"
   ]
  },
  {
   "cell_type": "code",
   "execution_count": 109,
   "metadata": {},
   "outputs": [],
   "source": [
    "def identify_home_away(outcomes, home_team, away_team):\n",
    "    \"\"\"Given a list of outcome objects, identifies the home and away outcome objects\n",
    "        Parameters:\n",
    "            outcomes (list): list of outcome objects\n",
    "            home_team (str): home team name\n",
    "            away_team (str): away team name\n",
    "        Returns:\n",
    "            home_outcome: outcome object for the home team\n",
    "            away_outcome: outcome object for the away team\n",
    "    \"\"\"\n",
    "    home_outcome = None\n",
    "    away_outcome = None\n",
    "    home_team_name = home_team.split(' ')[-1]\n",
    "    away_team_name = away_team.split(' ')[-1]\n",
    "    for outcome in outcomes:\n",
    "        if home_team_name in outcome['name']:\n",
    "            home_outcome = outcome\n",
    "        elif away_team_name in outcome['name']:\n",
    "            away_outcome = outcome\n",
    "    return home_outcome, away_outcome"
   ]
  },
  {
   "cell_type": "code",
   "execution_count": 110,
   "metadata": {},
   "outputs": [],
   "source": [
    "def add_odds_for_single_game(games, odds, game_id):\n",
    "    \"\"\"Adds odds for a single game for all available sportsbooks\n",
    "        Parameters:\n",
    "            games (dataframe): dataframe containing game data\n",
    "            odds (dataframe): dataframe containing odds data\n",
    "            game_id (str): prop odds game id\n",
    "        Returns:\n",
    "            None\n",
    "    \"\"\"\n",
    "    game_odds = get_game_odds(game_id)\n",
    "    if game_odds:\n",
    "        for sportsbook in game_odds['sportsbooks']:\n",
    "            sportsbook_name = sportsbook['bookie_key']\n",
    "            game = games[games['prop_odds_game_id'] == game_id].copy()\n",
    "            game['sportsbook'] = sportsbook_name\n",
    "            home_outcome, away_outcome = identify_home_away(sportsbook['market']['outcomes'], game['home_team'].values[0], game['away_team'].values[0])\n",
    "            game['home_team_odds'] = home_outcome['odds']\n",
    "            game['away_team_odds'] = away_outcome['odds']\n",
    "            game['home_probability'], game['away_probability'] = odds_to_prob2(home_outcome['odds'], away_outcome['odds'])\n",
    "            game['home_consensus_prob'], game['away_consensus_prob'], game['home_statistical_edge'], game['away_statistical_edge'], game['home_exp_value'], game['away_exp_value'], game['home_bet_size'], game['away_bet_size'], game['payout'] = None, None, None, None, None, None, None, None, None\n",
    "            odds.loc[len(odds)] = game.values[0]\n",
    "        "
   ]
  },
  {
   "cell_type": "code",
   "execution_count": 111,
   "metadata": {},
   "outputs": [],
   "source": [
    "def fill_odds(games, odds):\n",
    "    \"\"\"Calls add_odds_for_single_game for each game in a games dataframe\n",
    "        Parameters:\n",
    "            games (dataframe): dataframe containing games\n",
    "            odds (dataframe): dataframe containing odds\n",
    "        Returns:\n",
    "            None \n",
    "    \"\"\"\n",
    "    for game_id in games['prop_odds_game_id']:\n",
    "        add_odds_for_single_game(games, odds, game_id)"
   ]
  },
  {
   "cell_type": "code",
   "execution_count": 112,
   "metadata": {},
   "outputs": [],
   "source": [
    "def fill_consensus_probs(odds, weights_map=None):\n",
    "    \"\"\"Fills the consensus_prob column in an odds dataframe\n",
    "        Parameters:\n",
    "            odds (dataframe): odds dataframe\n",
    "            weights_map (series): series mapping sportsbook names to weights\n",
    "        Returns:\n",
    "            None\n",
    "    \"\"\"\n",
    "    for game_id in odds['prop_odds_game_id'].unique():\n",
    "        game = odds[odds['prop_odds_game_id'] == game_id]\n",
    "        if weights_map is not None:\n",
    "            weights = [weights_map[sportsbook] for sportsbook in game['sportsbook']]\n",
    "        else:\n",
    "            weights = None\n",
    "        home_consensus_prob = consensus_prob_calc(game['home_probability'].values, weights)\n",
    "        away_consensus_prob = consensus_prob_calc(game['away_probability'].values, weights)\n",
    "        odds.loc[odds['prop_odds_game_id'] == game_id, 'home_consensus_prob'] = home_consensus_prob\n",
    "        odds.loc[odds['prop_odds_game_id'] == game_id, 'away_consensus_prob'] = away_consensus_prob"
   ]
  },
  {
   "cell_type": "code",
   "execution_count": 113,
   "metadata": {},
   "outputs": [],
   "source": [
    "def fill_statistical_edge(odds):\n",
    "    \"\"\"Fills the statistical_edge column in an odds dataframe\n",
    "        Parameters:\n",
    "            odds (dataframe): odds dataframe\n",
    "        Returns:\n",
    "            None\n",
    "    \"\"\"\n",
    "    for index, row in odds.iterrows():\n",
    "        home_statistical_edge = calc_statistical_edge(row['home_team_odds'], row['home_consensus_prob'])\n",
    "        away_statistical_edge = calc_statistical_edge(row['away_team_odds'], row['away_consensus_prob'])\n",
    "        odds.loc[index, 'home_statistical_edge'] = home_statistical_edge\n",
    "        odds.loc[index, 'away_statistical_edge'] = away_statistical_edge"
   ]
  },
  {
   "cell_type": "code",
   "execution_count": 114,
   "metadata": {},
   "outputs": [],
   "source": [
    "def fill_bet_size_kelly(odds, bankroll):\n",
    "    \"\"\"Fills the home_bet_size and away_bet_size columns in an odds dataframe using the Kelly Criterion\n",
    "        Parameters:\n",
    "            odds (dataframe): odds dataframe\n",
    "            bankroll (float): amount of money to bet\n",
    "        Returns:\n",
    "            None\n",
    "    \"\"\"\n",
    "    for index, row in odds.iterrows():\n",
    "        odds.loc[index, 'home_bet_size'] = calc_bet_size(row['home_team_odds'], row['home_consensus_prob'], bankroll)\n",
    "        odds.loc[index, 'away_bet_size'] = calc_bet_size(row['away_team_odds'], row['away_consensus_prob'], bankroll)"
   ]
  },
  {
   "cell_type": "code",
   "execution_count": 115,
   "metadata": {},
   "outputs": [],
   "source": [
    "def fill_bet_size_naive(odds, bankroll):\n",
    "    \"\"\"Fills the home_bet_size and away_bet_size columns in an odds dataframe using a naive strategy of evenly betting on each game with a statistical edge\n",
    "        Parameters:\n",
    "            odds (dataframe): odds dataframe\n",
    "            bankroll (float): amount of money to bet\n",
    "        Returns:\n",
    "            None\n",
    "    \"\"\"\n",
    "    # use addition\n",
    "    num_positive = len(odds[(odds['home_statistical_edge'] > 1)]) + len(odds[(odds['away_statistical_edge'] > 1)])\n",
    "    bet_size = bankroll / num_positive\n",
    "    for index, row in odds.iterrows():\n",
    "        if (row['home_statistical_edge'] > 1):\n",
    "            odds.loc[index, 'home_bet_size'] = bet_size\n",
    "        else:\n",
    "            odds.loc[index, 'home_bet_size'] = 0\n",
    "        if (row['away_statistical_edge'] > 1):\n",
    "            odds.loc[index, 'away_bet_size'] = bet_size\n",
    "        else:\n",
    "            odds.loc[index, 'away_bet_size'] = 0\n",
    "\n",
    "\n",
    "    "
   ]
  },
  {
   "cell_type": "code",
   "execution_count": 116,
   "metadata": {},
   "outputs": [],
   "source": [
    "def fill_exp_values(odds):\n",
    "    \"\"\"Fills the home_exp_value and away_exp_value column in an odds dataframe\n",
    "        Parameters:\n",
    "            odds (dataframe): odds dataframe\n",
    "            bankroll (float): amount of money to bet in total\n",
    "        Returns:\n",
    "            None\n",
    "    \"\"\"\n",
    "    for index, row in odds.iterrows():\n",
    "        home_ev = exp_value(row['home_team_odds'], row['home_consensus_prob'], row['home_bet_size'])\n",
    "        away_ev = exp_value(row['away_team_odds'], row['away_consensus_prob'], row['away_bet_size'])\n",
    "        odds.loc[index, 'home_exp_value'] = home_ev\n",
    "        odds.loc[index, 'away_exp_value'] = away_ev"
   ]
  },
  {
   "cell_type": "code",
   "execution_count": 117,
   "metadata": {},
   "outputs": [],
   "source": [
    "def total_expected_payout(odds):\n",
    "    \"\"\"Calculates the total expected earnings for a given odds dataframe\n",
    "        Parameters:\n",
    "            odds (dataframe): odds dataframe\n",
    "        Returns:\n",
    "            float: total expected earnings\n",
    "    \"\"\"\n",
    "    return odds['home_exp_value'].sum() + odds['away_exp_value'].sum()"
   ]
  },
  {
   "cell_type": "code",
   "execution_count": 118,
   "metadata": {},
   "outputs": [],
   "source": [
    "def calc_payout(bet_size, odds):\n",
    "    \"\"\"Calculates the payout for a given bet size and odds\n",
    "        Parameters:\n",
    "            bet_size (float): amount of money to bet\n",
    "            odds (float): odds\n",
    "        Returns:\n",
    "            float: payout\n",
    "    \"\"\"\n",
    "    if (odds < 0):\n",
    "        payout = ((-100 / odds) + 1) * bet_size\n",
    "    else:\n",
    "        payout = ((odds / 100) + 1) * bet_size\n",
    "    return payout"
   ]
  },
  {
   "cell_type": "code",
   "execution_count": 119,
   "metadata": {},
   "outputs": [],
   "source": [
    "def calc_single_game_payout(game):\n",
    "    \"\"\"Calculates the payout for a single game\n",
    "        Parameters:\n",
    "            game (series): game data\n",
    "        Returns:\n",
    "            float: payout\n",
    "    \"\"\"\n",
    "    if (game['winner'] == game['home_team']):\n",
    "        return calc_payout(game['home_bet_size'], game['home_team_odds'])\n",
    "    else:\n",
    "        return calc_payout(game['away_bet_size'], game['away_team_odds'])"
   ]
  },
  {
   "cell_type": "code",
   "execution_count": 120,
   "metadata": {},
   "outputs": [],
   "source": [
    "def fill_payouts(odds):\n",
    "    \"\"\"Fills the payout column in an odds dataframe\n",
    "        Parameters:\n",
    "            odds (dataframe): odds dataframe\n",
    "        Returns:\n",
    "            None\n",
    "    \"\"\"\n",
    "    for index, row in odds.iterrows():\n",
    "        odds.loc[index, 'payout'] = calc_single_game_payout(row)"
   ]
  },
  {
   "cell_type": "code",
   "execution_count": 121,
   "metadata": {},
   "outputs": [],
   "source": [
    "def print_suggested_bets(odds):\n",
    "    \"\"\"Prints suggested bets based on the odds dataframe\n",
    "        Parameters:\n",
    "            odds (dataframe): odds dataframe\n",
    "        Returns:\n",
    "            None\n",
    "    \"\"\"\n",
    "    print('Suggested bets:')\n",
    "    # good bets are bets where home expected value or away expected value is greater than 0\n",
    "    good_bets = odds[(odds['home_exp_value'] > 0) | (odds['away_exp_value'] > 0)]\n",
    "    for index, row in good_bets.iterrows():\n",
    "        if (row['home_exp_value'] > 0):\n",
    "            print(f'${row[\"home_bet_size\"]:.2f} on {row[\"home_team\"]} at {row[\"sportsbook\"]} ({row[\"home_team_odds\"]})')\n",
    "        if (row['away_exp_value'] > 0):\n",
    "            print(f'${row[\"away_bet_size\"]:.2f} on {row[\"away_team\"]} at {row[\"sportsbook\"]} ({row[\"away_team_odds\"]})')\n",
    "    print(f'Total expected payout: ${total_expected_payout(odds):.2f}')\n",
    "    print(f'Total amount bet: ${good_bets[\"home_bet_size\"].sum() + good_bets[\"away_bet_size\"].sum():.2f}')"
   ]
  },
  {
   "cell_type": "code",
   "execution_count": 122,
   "metadata": {},
   "outputs": [],
   "source": [
    "# define weights\n",
    "weights_by_loss = assign_weights_by_loss()\n",
    "weights_by_vig = assign_weights_by_vig()"
   ]
  },
  {
   "cell_type": "code",
   "execution_count": 123,
   "metadata": {},
   "outputs": [],
   "source": [
    "bankroll = 1000"
   ]
  },
  {
   "cell_type": "code",
   "execution_count": 124,
   "metadata": {},
   "outputs": [
    {
     "name": "stdout",
     "output_type": "stream",
     "text": [
      "Suggested bets:\n",
      "Total expected payout: $0.00\n",
      "Total amount bet: $0.00\n"
     ]
    }
   ],
   "source": [
    "# Bet on today's games\n",
    "get_todays_games()\n",
    "fill_todays_games()\n",
    "fill_odds(todays_games, todays_odds)\n",
    "fill_consensus_probs(todays_odds, weights_by_vig)\n",
    "fill_statistical_edge(todays_odds)\n",
    "fill_bet_size_kelly(todays_odds, bankroll)\n",
    "fill_exp_values(todays_odds)\n",
    "todays_odds.to_csv('todays_odds.csv', index=False)\n",
    "print_suggested_bets(todays_odds)"
   ]
  },
  {
   "cell_type": "code",
   "execution_count": 125,
   "metadata": {},
   "outputs": [
    {
     "name": "stdout",
     "output_type": "stream",
     "text": [
      "Even weights for each sportsbook\n",
      "Total expected payout: $3810.45\n",
      "Total actual payout: $3462.43\n",
      "Total amount bet: $3414.00\n",
      "\n",
      "Weighted by historical loss\n",
      "Total expected payout: $3815.04\n",
      "Total actual payout: $3392.03\n",
      "Total amount bet: $3412.03\n",
      "\n",
      "Weighted by historical vig\n",
      "Total expected payout: $3892.91\n",
      "Total actual payout: $4343.63\n",
      "Total amount bet: $3515.57\n",
      "\n"
     ]
    }
   ],
   "source": [
    "def backtest_with_weights(historical_odds, name, weights=None):\n",
    "    # Fill probabilities\n",
    "    fill_probabilities(historical_odds)\n",
    "\n",
    "    # Calculate consensus probabilities using the given weights\n",
    "    fill_consensus_probs(historical_odds, weights)\n",
    "\n",
    "    # Calculate statistical edge\n",
    "    fill_statistical_edge(historical_odds)\n",
    "\n",
    "    # Calculate bet sizes  \n",
    "    fill_bet_size_kelly(historical_odds, bankroll)\n",
    "\n",
    "    # Calculate expected values using the consensus probabilities\n",
    "    fill_exp_values(historical_odds)\n",
    "\n",
    "    # Calculate payouts based on actual outcomes\n",
    "    fill_payouts(historical_odds)\n",
    "\n",
    "    # Save results to a CSV file with the corresponding weighting strategy\n",
    "    filename = f'historical_bet_opportunities_{name}.csv'\n",
    "    historical_odds.to_csv(filename, index=False)\n",
    "\n",
    "    # Print performance metrics\n",
    "    print(f'Total expected payout: ${total_expected_payout(historical_odds):.2f}')\n",
    "    print(f'Total actual payout: ${historical_odds[\"payout\"].sum():.2f}')\n",
    "    print(f'Total amount bet: ${historical_odds[\"home_bet_size\"].sum() + historical_odds[\"away_bet_size\"].sum():.2f}\\n')\n",
    "\n",
    "# Backtest with even weights\n",
    "print('Even weights for each sportsbook')\n",
    "backtest_with_weights(historical_odds, 'even_weights')\n",
    "\n",
    "# Backtest with weights based on historical loss\n",
    "print('Weighted by historical loss')\n",
    "backtest_with_weights(historical_odds, 'loss_weights', weights_by_loss)\n",
    "\n",
    "# Backtest with weights based on historical vig\n",
    "print('Weighted by historical vig')\n",
    "backtest_with_weights(historical_odds,'vig_weights', weights_by_vig)"
   ]
  },
  {
   "cell_type": "markdown",
   "metadata": {},
   "source": [
    "### Visualizations"
   ]
  },
  {
   "cell_type": "code",
   "execution_count": 126,
   "metadata": {},
   "outputs": [
    {
     "name": "stdout",
     "output_type": "stream",
     "text": [
      "            home_team_odds  away_team_odds  home_probability  \\\n",
      "sportsbook                                                     \n",
      "barstool            -33126           17220        130.557541   \n",
      "betmgm              -27765           13703        106.057673   \n",
      "betrivers           -14705            7279         66.526178   \n",
      "caesars             -13905            5936         41.985160   \n",
      "draftkings          -36339           20421        145.970790   \n",
      "fanduel             -46945           22245        169.028043   \n",
      "pinnacle            -16653           11709         80.039208   \n",
      "\n",
      "            away_probability  home_consensus_prob  away_consensus_prob  \\\n",
      "sportsbook                                                               \n",
      "barstool           91.442459           130.583740            91.416260   \n",
      "betmgm             74.942327           105.581475            75.418525   \n",
      "betrivers          49.473822            66.234888            49.765112   \n",
      "caesars            27.014840            41.939718            27.060282   \n",
      "draftkings        103.029210           145.951728           103.048272   \n",
      "fanduel           120.971957           168.751829           121.248171   \n",
      "pinnacle           57.960792            81.121216            56.878784   \n",
      "\n",
      "            statistical_edge  away_statistical_edge  home_exp_value  \\\n",
      "sportsbook                                                            \n",
      "barstool                 0.0             207.668407        0.000000   \n",
      "betmgm                   0.0             171.380010        9.887536   \n",
      "betrivers                0.0             110.754387        5.390661   \n",
      "caesars                  0.0              64.804664       70.027625   \n",
      "draftkings               0.0             236.120778      143.720783   \n",
      "fanduel                  0.0             274.648899       85.917757   \n",
      "pinnacle                 0.0             130.041630     2855.271559   \n",
      "\n",
      "            away_exp_value  home_bet_size  away_bet_size       payout  \\\n",
      "sportsbook                                                              \n",
      "barstool        103.723893       0.000000      98.657275   291.738960   \n",
      "betmgm          104.538867       9.807382      96.746569   282.331634   \n",
      "betrivers         0.000000       5.365188       0.000000     0.000000   \n",
      "caesars          53.583838      68.489647      50.130338     0.000000   \n",
      "draftkings      138.241118     136.454474     128.624112   587.341883   \n",
      "fanduel         112.107559      83.398177     105.821100   378.254203   \n",
      "pinnacle        128.043481    2506.967455     123.541730  1922.763391   \n",
      "\n",
      "            home_statistical_edge    earnings  \n",
      "sportsbook                                     \n",
      "barstool               212.168086  193.081684  \n",
      "betmgm                 172.502013  175.777682  \n",
      "betrivers              111.153031   -5.365188  \n",
      "caesars                 66.172654 -118.619985  \n",
      "draftkings             239.794231  322.263297  \n",
      "fanduel                278.310624  189.034926  \n",
      "pinnacle               136.326559 -707.745793  \n"
     ]
    }
   ],
   "source": [
    "import numpy as np\n",
    "import matplotlib.pyplot as plt\n",
    "## Group csv by sports book, aggregate sum payout, make a 3 way bar chart of the payout by weight method for each sportsbook\n",
    "## make tables/figures with the results above\n",
    "## teams which we made the most money on\n",
    "## bankroll over time with different methods, (sum payout - sum(away + home bets)) group by day\n",
    "evenweight = pd.read_csv('historical_bet_opportunities_even_weights.csv')\n",
    "loss = pd.read_csv('historical_bet_opportunities_loss_weights.csv')\n",
    "vig = pd.read_csv('historical_bet_opportunities_vig_weights.csv')\n",
    "evenpayout = evenweight.groupby('sportsbook').sum()\n",
    "evenpayout['earnings'] = evenpayout['payout'] - evenpayout['home_bet_size'] - evenpayout['away_bet_size']\n",
    "losspayout = loss.groupby('sportsbook').sum()\n",
    "losspayout['earnings'] = losspayout['payout'] - losspayout['home_bet_size'] - losspayout['away_bet_size']\n",
    "vigpayout = vig.groupby('sportsbook').sum()\n",
    "vigpayout['earnings'] = vigpayout['payout'] - vigpayout['home_bet_size'] - vigpayout['away_bet_size']\n",
    "\n",
    "evenearnings = evenpayout['earnings'].values\n",
    "lossearnings = losspayout['earnings'].values\n",
    "vigearnings = vigpayout['earnings'].values\n",
    "\n",
    "print(evenpayout)\n"
   ]
  },
  {
   "cell_type": "code",
   "execution_count": 139,
   "metadata": {},
   "outputs": [
    {
     "data": {
      "image/png": "[encoded data removed]",
      "text/plain": [
       "<Figure size 864x576 with 1 Axes>"
      ]
     },
     "metadata": {
      "needs_background": "light"
     },
     "output_type": "display_data"
    }
   ],
   "source": [
    "barwidth = 0.25\n",
    "fig = plt.subplots(figsize = (12, 8))\n",
    "br1 = np.arange(len(evenearnings)) \n",
    "br2 = [x + barwidth for x in br1] \n",
    "br3 = [x + barwidth for x in br2] \n",
    "plt.bar(br1, evenearnings, color ='powderblue', width = barwidth, \n",
    "         label ='Even weights') \n",
    "plt.bar(br2, lossearnings, color ='darkturquoise', width = barwidth, \n",
    "         label ='Historical Loss weights') \n",
    "plt.bar(br3, vigearnings, color ='grey', width = barwidth, \n",
    "         label ='Vig weights') \n",
    "plt.xlabel('Sportsbook', fontweight ='bold', fontsize = 15) \n",
    "plt.ylabel('Earnings (Payout - bet size)', fontweight ='bold', fontsize = 15) \n",
    "plt.xticks([r + barwidth for r in range(len(evenearnings))], \n",
    "        ['barstool', 'betmgm', 'betrivers', 'caesars', 'draftkings', 'fanduel', 'pinnacle'])\n",
    "plt.legend()\n",
    "plt.show() "
   ]
  },
  {
   "cell_type": "markdown",
   "metadata": {},
   "source": [
    "Our higher payout methods weigh pinnacle more because its odd spreads are tighter and we assume pinnacle has the most information so we weigh it heavily. However, it is also bad to bet against it due to this, which is why we see such negative results from betting against pinnacle."
   ]
  },
  {
   "cell_type": "code",
   "execution_count": 141,
   "metadata": {},
   "outputs": [
    {
     "data": {
      "image/png": "[encoded data removed]",
      "text/plain": [
       "<Figure size 432x288 with 1 Axes>"
      ]
     },
     "metadata": {
      "needs_background": "light"
     },
     "output_type": "display_data"
    },
    {
     "data": {
      "image/png": "[encoded data removed]",
      "text/plain": [
       "<Figure size 432x288 with 1 Axes>"
      ]
     },
     "metadata": {
      "needs_background": "light"
     },
     "output_type": "display_data"
    },
    {
     "data": {
      "image/png": "[encoded data removed]",
      "text/plain": [
       "<Figure size 432x288 with 1 Axes>"
      ]
     },
     "metadata": {
      "needs_background": "light"
     },
     "output_type": "display_data"
    }
   ],
   "source": [
    "evendaypay = evenweight.groupby('date').sum()\n",
    "evendaypay['daypay'] = evendaypay['payout'] - evendaypay['home_bet_size'] - evendaypay['away_bet_size']\n",
    "lossdaypay = loss.groupby('date').sum()\n",
    "lossdaypay['daypay'] = lossdaypay['payout'] - lossdaypay['home_bet_size'] - lossdaypay['away_bet_size']\n",
    "vigdaypay = vig.groupby('date').sum()\n",
    "vigdaypay['daypay'] = vigdaypay['payout'] - vigdaypay['home_bet_size'] - vigdaypay['away_bet_size']\n",
    "\n",
    "evendaypay['cumpay'] = evendaypay['daypay'].cumsum()\n",
    "lossdaypay ['cumpay']= lossdaypay['daypay'].cumsum()\n",
    "vigdaypay['cumpay'] = vigdaypay['daypay'].cumsum()\n",
    "evendaypay['cumpay'].index = evendaypay['cumpay'].index.str.slice(5,10)\n",
    "lossdaypay['cumpay'].index = lossdaypay['cumpay'].index.str.slice(5,10)\n",
    "vigdaypay['cumpay'].index = vigdaypay['cumpay'].index.str.slice(5,10)\n",
    "\n",
    "\n",
    "plt.plot(evendaypay['cumpay'], color = 'darkturquoise')\n",
    "plt.xticks(np.arange(0, len(evendaypay['cumpay']) + 1, 9))\n",
    "plt.title('Cumulative Profit over time with even weighting')\n",
    "plt.xlabel('Dates')\n",
    "plt.ylabel('Profit in dollars')\n",
    "plt.show()\n",
    "\n",
    "plt.plot(lossdaypay['cumpay'], color = 'darkturquoise')\n",
    "plt.xticks(np.arange(0, len(evendaypay['cumpay']) + 1, 9))\n",
    "plt.title('Cumulative Profit over time with historical loss  weighting')\n",
    "plt.xlabel('Dates')\n",
    "plt.ylabel('Profit in dollars')\n",
    "plt.show()\n",
    "\n",
    "plt.plot(vigdaypay['cumpay'], color = 'darkturquoise')\n",
    "plt.xticks(np.arange(0, len(evendaypay['cumpay']) + 1, 9))\n",
    "plt.title('Cumulative Profit over time with vig weighting')\n",
    "plt.xlabel('Dates')\n",
    "plt.ylabel('Profit in dollars')\n",
    "plt.show()"
   ]
  },
  {
   "cell_type": "code",
   "execution_count": 162,
   "metadata": {},
   "outputs": [
    {
     "data": {
      "image/png": "[encoded data removed]",
      "text/plain": [
       "<Figure size 432x288 with 1 Axes>"
      ]
     },
     "metadata": {
      "needs_background": "light"
     },
     "output_type": "display_data"
    },
    {
     "data": {
      "image/png": "[encoded data removed]",
      "text/plain": [
       "<Figure size 432x288 with 1 Axes>"
      ]
     },
     "metadata": {
      "needs_background": "light"
     },
     "output_type": "display_data"
    },
    {
     "data": {
      "image/png": "[encoded data removed]",
      "text/plain": [
       "<Figure size 432x288 with 1 Axes>"
      ]
     },
     "metadata": {
      "needs_background": "light"
     },
     "output_type": "display_data"
    },
    {
     "name": "stdout",
     "output_type": "stream",
     "text": [
      "[375.18413687 207.33614772 106.28210653  61.31830493  36.26124226\n",
      "  32.08686583  21.83438922   9.61116554   8.4728474    7.08871191]\n"
     ]
    }
   ],
   "source": [
    "eventeam = evenweight.groupby('winner').sum()\n",
    "eventeam['earnings'] = eventeam['payout'] - eventeam['home_bet_size'] - eventeam['away_bet_size']\n",
    "lossteam = loss.groupby('winner').sum()\n",
    "lossteam['earnings'] = lossteam['payout'] - lossteam['home_bet_size'] - lossteam['away_bet_size']\n",
    "vigteam = vig.groupby('winner').sum()\n",
    "vigteam['earnings'] = vigteam['payout'] - vigteam['home_bet_size'] - vigteam['away_bet_size']\n",
    "\n",
    "\n",
    "\n",
    "eventeamearn = eventeam.sort_values(by= 'earnings', ascending = False)['earnings']\n",
    "lossteamearn = lossteam.sort_values(by= 'earnings', ascending = False)['earnings']\n",
    "vigteamearn = vigteam.sort_values(by= 'earnings', ascending = False)['earnings']\n",
    "eventeamearn.index = eventeamearn.index.str.slice(0, 4)\n",
    "lossteamearn.index = lossteamearn.index.str.slice(0, 4)\n",
    "vigteamearn.index= vigteamearn.index.str.slice(0,4)\n",
    "\n",
    "plt.bar(list(eventeamearn.keys())[:10], eventeamearn.values[:10], width = .8, color = 'darkturquoise')\n",
    "plt.title('Top 10 Teams we earned the most profit from (Even Weighting)')\n",
    "plt.xlabel('Team')\n",
    "plt.ylabel('Profit in dollars')\n",
    "plt.show()\n",
    "plt.bar(list(lossteamearn.keys())[:10], lossteamearn.values[:10], width = .8, color = 'darkturquoise')\n",
    "plt.title('Top 10 Teams we earned the most profit from (Historical Loss Weighting)')\n",
    "plt.xlabel('Team')\n",
    "plt.ylabel('Profit in dollars')\n",
    "plt.show()\n",
    "plt.bar(list(vigteamearn.keys())[:10], vigteamearn.values[:10], width = .8, color = 'darkturquoise')\n",
    "plt.title('Top 10 Teams we earned the most profit from (Vig weighting)')\n",
    "plt.xlabel('Team')\n",
    "plt.ylabel('Profit in dollars')\n",
    "plt.show()\n",
    "\n",
    "print(vigteamearn.values[:10])\n",
    "\n"
   ]
  },
  {
   "cell_type": "code",
   "execution_count": 168,
   "metadata": {},
   "outputs": [
    {
     "data": {
      "image/png": "[encoded data removed]",
      "text/plain": [
       "<Figure size 432x288 with 1 Axes>"
      ]
     },
     "metadata": {
      "needs_background": "light"
     },
     "output_type": "display_data"
    }
   ],
   "source": [
    "vigmeans = vigs.groupby('sportsbook').mean()\n",
    "plt.bar(list(vigmeans.index), vigmeans.values.flatten(), width = .8, color = 'darkturquoise')\n",
    "plt.title('Average Vig of each Sportsbook')\n",
    "plt.xlabel('Sportsbook')\n",
    "plt.ylabel('Average Vig')\n",
    "plt.show()\n",
    "\n"
   ]
  }
 ],
 "metadata": {
  "kernelspec": {
   "display_name": "cs333",
   "language": "python",
   "name": "python3"
  },
  "language_info": {
   "codemirror_mode": {
    "name": "ipython",
    "version": 3
   },
   "file_extension": ".py",
   "mimetype": "text/x-python",
   "name": "python",
   "nbconvert_exporter": "python",
   "pygments_lexer": "ipython3",
   "version": "3.9.12"
  }
 },
 "nbformat": 4,
 "nbformat_minor": 2
}
